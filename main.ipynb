{
 "cells": [
  {
   "cell_type": "code",
   "execution_count": null,
   "metadata": {},
   "outputs": [],
   "source": [
    "from net2brain.utils.download_datasets import DatasetNSD_872\n",
    "from net2brain.feature_extraction import FeatureExtractor\n",
    "from net2brain.evaluations.ridge_regression import Ridge_Encoding\n",
    "from net2brain.evaluations.plotting import Plotting\n",
    "import os"
   ]
  },
  {
   "cell_type": "code",
   "execution_count": null,
   "metadata": {},
   "outputs": [],
   "source": [
    "paths_NSD_872 = DatasetNSD_872().load_dataset()"
   ]
  },
  {
   "cell_type": "code",
   "execution_count": null,
   "metadata": {},
   "outputs": [],
   "source": [
    "stimuli_path = paths_NSD_872[\"NSD_872_images\"]\n",
    "roi_path = paths_NSD_872[\"NSD_872_fmri\"] \n",
    "\n",
    "# join roi path with the prf-visualrois folder\n",
    "roi_path = os.path.join(roi_path, \"prf-visualrois/V2v\")"
   ]
  },
  {
   "cell_type": "code",
   "execution_count": null,
   "metadata": {},
   "outputs": [],
   "source": [
    "import shutil\n",
    "means = []\n",
    "for _ in range(10):\n",
    "    fx = FeatureExtractor(model='AlexNet', netset='Standard', device='cpu', pretrained=False)\n",
    "    fx.extract(data_path=stimuli_path, save_path='AlexNet_Feat', consolidate_per_layer=False, layers_to_extract=[\"features.10\"])\n",
    "    results_dataframe = Ridge_Encoding(\n",
    "        'AlexNet_Feat',\n",
    "        roi_path,\n",
    "        \"AlexNet\",\n",
    "        n_folds=3,\n",
    "        trn_tst_split=0.8,\n",
    "        n_components=100,\n",
    "        batch_size=64,\n",
    "        return_correlations=True,\n",
    "        save_path=\"results\",\n",
    "        alpha=1.0,\n",
    "    )\n",
    "\n",
    "    layer = results_dataframe.Layer.unique()[-1]\n",
    "    last_layer_df = results_dataframe[results_dataframe.Layer == layer]\n",
    "    print(last_layer_df.R.mean())\n",
    "    means.append(last_layer_df.R.mean())\n",
    "    shutil.rmtree('AlexNet_Feat')"
   ]
  },
  {
   "cell_type": "code",
   "execution_count": null,
   "metadata": {},
   "outputs": [],
   "source": [
    "import numpy as np\n",
    "print(np.mean(means))"
   ]
  },
  {
   "cell_type": "code",
   "execution_count": null,
   "metadata": {},
   "outputs": [],
   "source": [
    "results_dataframe"
   ]
  },
  {
   "cell_type": "code",
   "execution_count": null,
   "metadata": {},
   "outputs": [],
   "source": [
    "plotter = Plotting(results_dataframe)\n",
    "plotter.plot_all_layers()"
   ]
  },
  {
   "cell_type": "code",
   "execution_count": null,
   "metadata": {},
   "outputs": [],
   "source": [
    "import numpy as np\n",
    "\n",
    "subject = 'subj07'\n",
    "\n",
    "# Load the NPY file\n",
    "lh = np.load(roi_path + f'/{subject}_roi-V2v_lh.npy')\n",
    "rh = np.load(roi_path + f'/{subject}_roi-V2v_rh.npy')\n",
    "\n",
    "# Concatenate the left and right hemisphere\n",
    "roi = np.concatenate((lh, rh), axis=1)\n",
    "# save as NPY file\n",
    "np.save(roi_path + f'/{subject}_roi-V2v.npy', roi)"
   ]
  },
  {
   "cell_type": "code",
   "execution_count": null,
   "metadata": {},
   "outputs": [],
   "source": []
  }
 ],
 "metadata": {
  "kernelspec": {
   "display_name": "venv",
   "language": "python",
   "name": "python3"
  },
  "language_info": {
   "codemirror_mode": {
    "name": "ipython",
    "version": 3
   },
   "file_extension": ".py",
   "mimetype": "text/x-python",
   "name": "python",
   "nbconvert_exporter": "python",
   "pygments_lexer": "ipython3",
   "version": "3.12.5"
  }
 },
 "nbformat": 4,
 "nbformat_minor": 2
}
