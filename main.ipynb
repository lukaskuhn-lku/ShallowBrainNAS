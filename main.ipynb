{
 "cells": [
  {
   "cell_type": "code",
   "execution_count": 1,
   "metadata": {},
   "outputs": [
    {
     "name": "stderr",
     "output_type": "stream",
     "text": [
      "/Users/lukaskuhn/Documents/Code/ShallowBrainNAS/venv/lib/python3.12/site-packages/tqdm/auto.py:21: TqdmWarning: IProgress not found. Please update jupyter and ipywidgets. See https://ipywidgets.readthedocs.io/en/stable/user_install.html\n",
      "  from .autonotebook import tqdm as notebook_tqdm\n"
     ]
    }
   ],
   "source": [
    "from net2brain.utils.download_datasets import DatasetNSD_872\n",
    "from net2brain.feature_extraction import FeatureExtractor\n",
    "from net2brain.evaluations.ridge_regression import Ridge_Encoding, RidgeCV_Encoding\n",
    "from net2brain.evaluations.plotting import Plotting\n",
    "import os"
   ]
  },
  {
   "cell_type": "code",
   "execution_count": 2,
   "metadata": {},
   "outputs": [],
   "source": [
    "paths_NSD_872 = DatasetNSD_872().load_dataset()"
   ]
  },
  {
   "cell_type": "code",
   "execution_count": 32,
   "metadata": {},
   "outputs": [],
   "source": [
    "stimuli_path = paths_NSD_872[\"NSD_872_images\"]\n",
    "roi_path = paths_NSD_872[\"NSD_872_fmri\"] \n",
    "\n",
    "# join roi path with the prf-visualrois folder\n",
    "roi_path = os.path.join(roi_path, \"prf-visualrois/V2combined\")"
   ]
  },
  {
   "cell_type": "code",
   "execution_count": 34,
   "metadata": {},
   "outputs": [
    {
     "name": "stderr",
     "output_type": "stream",
     "text": [
      "/Users/lukaskuhn/Documents/Code/ShallowBrainNAS/venv/lib/python3.12/site-packages/net2brain/architectures/netsetbase.py:256: UserWarning: Will initiate random weights\n",
      "  warnings.warn(\"Will initiate random weights\")\n"
     ]
    }
   ],
   "source": [
    "fx = FeatureExtractor(model='AlexNet', netset='Standard', device='cpu', pretrained=False)\n",
    "fx.extract(data_path=stimuli_path, save_path='AlexNet_Feat', consolidate_per_layer=False, layers_to_extract=[\"features.10\"])"
   ]
  },
  {
   "cell_type": "code",
   "execution_count": 35,
   "metadata": {},
   "outputs": [],
   "source": [
    "results_dataframe = Ridge_Encoding(\n",
    "    'AlexNet_Feat',\n",
    "    roi_path,\n",
    "    \"AlexNet\",\n",
    "    n_folds=3,\n",
    "    trn_tst_split=0.8,\n",
    "    n_components=100,\n",
    "    batch_size=64,\n",
    "    return_correlations=True,\n",
    "    save_path=\"results\",\n",
    "    alpha=1.0,\n",
    ")"
   ]
  },
  {
   "cell_type": "code",
   "execution_count": 36,
   "metadata": {},
   "outputs": [],
   "source": [
    "results_dataframe_cv = RidgeCV_Encoding(\n",
    "    'AlexNet_Feat',\n",
    "    roi_path,\n",
    "    \"AlexNet\",\n",
    "    n_folds=3,\n",
    "    trn_tst_split=0.8,\n",
    "    n_components=100,\n",
    "    batch_size=64,\n",
    "    return_correlations=False,\n",
    "    save_path=\"results\",\n",
    "    alpha=1.0,\n",
    ")"
   ]
  },
  {
   "cell_type": "code",
   "execution_count": 37,
   "metadata": {},
   "outputs": [
    {
     "data": {
      "text/html": [
       "<div>\n",
       "<style scoped>\n",
       "    .dataframe tbody tr th:only-of-type {\n",
       "        vertical-align: middle;\n",
       "    }\n",
       "\n",
       "    .dataframe tbody tr th {\n",
       "        vertical-align: top;\n",
       "    }\n",
       "\n",
       "    .dataframe thead th {\n",
       "        text-align: right;\n",
       "    }\n",
       "</style>\n",
       "<table border=\"1\" class=\"dataframe\">\n",
       "  <thead>\n",
       "    <tr style=\"text-align: right;\">\n",
       "      <th></th>\n",
       "      <th>ROI</th>\n",
       "      <th>Layer</th>\n",
       "      <th>Model</th>\n",
       "      <th>R</th>\n",
       "      <th>%R2</th>\n",
       "      <th>Significance</th>\n",
       "      <th>SEM</th>\n",
       "      <th>LNC</th>\n",
       "      <th>UNC</th>\n",
       "    </tr>\n",
       "  </thead>\n",
       "  <tbody>\n",
       "    <tr>\n",
       "      <th>0</th>\n",
       "      <td>subj02_roi-V2v</td>\n",
       "      <td>features.10</td>\n",
       "      <td>AlexNet</td>\n",
       "      <td>0.100038</td>\n",
       "      <td>0.010008</td>\n",
       "      <td>0.026778</td>\n",
       "      <td>0.016708</td>\n",
       "      <td>0.0</td>\n",
       "      <td>0.0</td>\n",
       "    </tr>\n",
       "    <tr>\n",
       "      <th>1</th>\n",
       "      <td>subj07_roi-V2v</td>\n",
       "      <td>features.10</td>\n",
       "      <td>AlexNet</td>\n",
       "      <td>0.143299</td>\n",
       "      <td>0.020534</td>\n",
       "      <td>0.037338</td>\n",
       "      <td>0.028494</td>\n",
       "      <td>0.0</td>\n",
       "      <td>0.0</td>\n",
       "    </tr>\n",
       "    <tr>\n",
       "      <th>2</th>\n",
       "      <td>subj04_roi-V2v</td>\n",
       "      <td>features.10</td>\n",
       "      <td>AlexNet</td>\n",
       "      <td>0.145176</td>\n",
       "      <td>0.021076</td>\n",
       "      <td>0.037503</td>\n",
       "      <td>0.028935</td>\n",
       "      <td>0.0</td>\n",
       "      <td>0.0</td>\n",
       "    </tr>\n",
       "    <tr>\n",
       "      <th>3</th>\n",
       "      <td>subj01_roi-V2v</td>\n",
       "      <td>features.10</td>\n",
       "      <td>AlexNet</td>\n",
       "      <td>0.123268</td>\n",
       "      <td>0.015195</td>\n",
       "      <td>0.035970</td>\n",
       "      <td>0.024032</td>\n",
       "      <td>0.0</td>\n",
       "      <td>0.0</td>\n",
       "    </tr>\n",
       "    <tr>\n",
       "      <th>4</th>\n",
       "      <td>subj05_roi-V2v</td>\n",
       "      <td>features.10</td>\n",
       "      <td>AlexNet</td>\n",
       "      <td>0.192574</td>\n",
       "      <td>0.037085</td>\n",
       "      <td>0.035297</td>\n",
       "      <td>0.037171</td>\n",
       "      <td>0.0</td>\n",
       "      <td>0.0</td>\n",
       "    </tr>\n",
       "  </tbody>\n",
       "</table>\n",
       "</div>"
      ],
      "text/plain": [
       "              ROI        Layer    Model         R       %R2  Significance  \\\n",
       "0  subj02_roi-V2v  features.10  AlexNet  0.100038  0.010008      0.026778   \n",
       "1  subj07_roi-V2v  features.10  AlexNet  0.143299  0.020534      0.037338   \n",
       "2  subj04_roi-V2v  features.10  AlexNet  0.145176  0.021076      0.037503   \n",
       "3  subj01_roi-V2v  features.10  AlexNet  0.123268  0.015195      0.035970   \n",
       "4  subj05_roi-V2v  features.10  AlexNet  0.192574  0.037085      0.035297   \n",
       "\n",
       "        SEM  LNC  UNC  \n",
       "0  0.016708  0.0  0.0  \n",
       "1  0.028494  0.0  0.0  \n",
       "2  0.028935  0.0  0.0  \n",
       "3  0.024032  0.0  0.0  \n",
       "4  0.037171  0.0  0.0  "
      ]
     },
     "execution_count": 37,
     "metadata": {},
     "output_type": "execute_result"
    }
   ],
   "source": [
    "results_dataframe"
   ]
  },
  {
   "cell_type": "code",
   "execution_count": 38,
   "metadata": {},
   "outputs": [
    {
     "data": {
      "text/html": [
       "<div>\n",
       "<style scoped>\n",
       "    .dataframe tbody tr th:only-of-type {\n",
       "        vertical-align: middle;\n",
       "    }\n",
       "\n",
       "    .dataframe tbody tr th {\n",
       "        vertical-align: top;\n",
       "    }\n",
       "\n",
       "    .dataframe thead th {\n",
       "        text-align: right;\n",
       "    }\n",
       "</style>\n",
       "<table border=\"1\" class=\"dataframe\">\n",
       "  <thead>\n",
       "    <tr style=\"text-align: right;\">\n",
       "      <th></th>\n",
       "      <th>ROI</th>\n",
       "      <th>Layer</th>\n",
       "      <th>Model</th>\n",
       "      <th>R</th>\n",
       "      <th>%R2</th>\n",
       "      <th>Significance</th>\n",
       "      <th>SEM</th>\n",
       "      <th>Alpha</th>\n",
       "      <th>LNC</th>\n",
       "      <th>UNC</th>\n",
       "    </tr>\n",
       "  </thead>\n",
       "  <tbody>\n",
       "    <tr>\n",
       "      <th>0</th>\n",
       "      <td>subj02_roi-V2v</td>\n",
       "      <td>features.10</td>\n",
       "      <td>AlexNet</td>\n",
       "      <td>0.117518</td>\n",
       "      <td>0.013811</td>\n",
       "      <td>3.858161e-230</td>\n",
       "      <td>0.003028</td>\n",
       "      <td>1.0</td>\n",
       "      <td>NaN</td>\n",
       "      <td>NaN</td>\n",
       "    </tr>\n",
       "    <tr>\n",
       "      <th>1</th>\n",
       "      <td>subj07_roi-V2v</td>\n",
       "      <td>features.10</td>\n",
       "      <td>AlexNet</td>\n",
       "      <td>0.193937</td>\n",
       "      <td>0.037612</td>\n",
       "      <td>0.000000e+00</td>\n",
       "      <td>0.002765</td>\n",
       "      <td>1.0</td>\n",
       "      <td>NaN</td>\n",
       "      <td>NaN</td>\n",
       "    </tr>\n",
       "    <tr>\n",
       "      <th>2</th>\n",
       "      <td>subj04_roi-V2v</td>\n",
       "      <td>features.10</td>\n",
       "      <td>AlexNet</td>\n",
       "      <td>0.195091</td>\n",
       "      <td>0.038061</td>\n",
       "      <td>0.000000e+00</td>\n",
       "      <td>0.002884</td>\n",
       "      <td>1.0</td>\n",
       "      <td>NaN</td>\n",
       "      <td>NaN</td>\n",
       "    </tr>\n",
       "    <tr>\n",
       "      <th>3</th>\n",
       "      <td>subj01_roi-V2v</td>\n",
       "      <td>features.10</td>\n",
       "      <td>AlexNet</td>\n",
       "      <td>0.167106</td>\n",
       "      <td>0.027924</td>\n",
       "      <td>0.000000e+00</td>\n",
       "      <td>0.002803</td>\n",
       "      <td>1.0</td>\n",
       "      <td>NaN</td>\n",
       "      <td>NaN</td>\n",
       "    </tr>\n",
       "    <tr>\n",
       "      <th>4</th>\n",
       "      <td>subj05_roi-V2v</td>\n",
       "      <td>features.10</td>\n",
       "      <td>AlexNet</td>\n",
       "      <td>0.252499</td>\n",
       "      <td>0.063756</td>\n",
       "      <td>0.000000e+00</td>\n",
       "      <td>0.003033</td>\n",
       "      <td>1.0</td>\n",
       "      <td>NaN</td>\n",
       "      <td>NaN</td>\n",
       "    </tr>\n",
       "  </tbody>\n",
       "</table>\n",
       "</div>"
      ],
      "text/plain": [
       "              ROI        Layer    Model         R       %R2   Significance  \\\n",
       "0  subj02_roi-V2v  features.10  AlexNet  0.117518  0.013811  3.858161e-230   \n",
       "1  subj07_roi-V2v  features.10  AlexNet  0.193937  0.037612   0.000000e+00   \n",
       "2  subj04_roi-V2v  features.10  AlexNet  0.195091  0.038061   0.000000e+00   \n",
       "3  subj01_roi-V2v  features.10  AlexNet  0.167106  0.027924   0.000000e+00   \n",
       "4  subj05_roi-V2v  features.10  AlexNet  0.252499  0.063756   0.000000e+00   \n",
       "\n",
       "        SEM  Alpha  LNC  UNC  \n",
       "0  0.003028    1.0  NaN  NaN  \n",
       "1  0.002765    1.0  NaN  NaN  \n",
       "2  0.002884    1.0  NaN  NaN  \n",
       "3  0.002803    1.0  NaN  NaN  \n",
       "4  0.003033    1.0  NaN  NaN  "
      ]
     },
     "execution_count": 38,
     "metadata": {},
     "output_type": "execute_result"
    }
   ],
   "source": [
    "results_dataframe_cv"
   ]
  },
  {
   "cell_type": "code",
   "execution_count": null,
   "metadata": {},
   "outputs": [],
   "source": []
  }
 ],
 "metadata": {
  "kernelspec": {
   "display_name": "venv",
   "language": "python",
   "name": "python3"
  },
  "language_info": {
   "codemirror_mode": {
    "name": "ipython",
    "version": 3
   },
   "file_extension": ".py",
   "mimetype": "text/x-python",
   "name": "python",
   "nbconvert_exporter": "python",
   "pygments_lexer": "ipython3",
   "version": "3.12.5"
  }
 },
 "nbformat": 4,
 "nbformat_minor": 2
}
